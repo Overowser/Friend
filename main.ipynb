{
 "cells": [
  {
   "cell_type": "markdown",
   "metadata": {},
   "source": [
    "This project is organized into four main components:\n",
    "\n",
    "1. **Speech-to-Text** — to capture and transcribe the user's voice input  \n",
    "2. **LLM Response Generation** — to process the input and generate a reply  \n",
    "3. **Text-to-Speech** — to convert the response into audio output  \n",
    "4. **Main Loop** — to integrate all components into a continuous voice interaction cycle"
   ]
  },
  {
   "cell_type": "markdown",
   "metadata": {},
   "source": [
    "# 1.Speech recognition"
   ]
  },
  {
   "cell_type": "markdown",
   "metadata": {},
   "source": [
    "This section provides two key functions:\n",
    "\n",
    "- One to convert an audio file into text\n",
    "- Another to record input directly from the microphone"
   ]
  },
  {
   "cell_type": "code",
   "execution_count": null,
   "metadata": {},
   "outputs": [],
   "source": [
    "import speech_recognition as sr\n",
    "\n",
    "r = sr.Recognizer()\n",
    "\n",
    "def recognize_speech_from_mic(recognizer, verbose=True):\n",
    "    with sr.Microphone() as source:\n",
    "        if verbose:\n",
    "            print(\"Listening...\")\n",
    "        r.pause_threshold = 2\n",
    "        audio_text = r.listen(source)\n",
    "    if verbose:\n",
    "        print(\"Recognizing...\")\n",
    "        \n",
    "    try:\n",
    "        return r.recognize_google(audio_text)\n",
    "    except:\n",
    "        if verbose:\n",
    "            print(\"Could not recognize ... Please try again\")\n",
    "        return recognize_speech_from_mic(recognizer)\n",
    "\n",
    "# print(recognize_speech_from_mic(r))"
   ]
  },
  {
   "cell_type": "markdown",
   "metadata": {},
   "source": [
    "# 2. LLM Response Generation"
   ]
  },
  {
   "cell_type": "markdown",
   "metadata": {},
   "source": [
    "Here, we define a function that manages the conversation with a language model (either local or through Groq), including simple context/history handling."
   ]
  },
  {
   "cell_type": "code",
   "execution_count": null,
   "metadata": {},
   "outputs": [],
   "source": [
    "from groq import Groq\n",
    "import os\n",
    "import json\n",
    "from dotenv import load_dotenv\n",
    "import ollama\n",
    "\n",
    "load_dotenv()\n",
    "\n",
    "def converse(new_message, model=\"llama-3.1-8b-instant\", api_key=None, history_file=\"conversation_history.txt\"):\n",
    "    \"\"\"\n",
    "    A function to interact with a Groq-based chatbot that maintains conversation context using a text file.\n",
    "\n",
    "    Parameters:\n",
    "    - new_message (str): The user's latest input message.\n",
    "    - model (str): The model to use (default: \"llama-3.1-8b-instant\").\n",
    "    - api_key (str): Groq API key (default: None, will use GROQ_API_KEY from environment variables if not provided).\n",
    "    - history_file (str): The file to store conversation history (default: \"conversation_history.txt\").\n",
    "\n",
    "    Returns:\n",
    "    - str: The chatbot's response.\n",
    "    \"\"\"\n",
    "\n",
    "    # Load conversation history\n",
    "    if os.path.exists(history_file):\n",
    "        with open(history_file, \"r\", encoding=\"utf-8\") as file:\n",
    "            messages = json.load(file)\n",
    "    else:\n",
    "        messages = []\n",
    "\n",
    "    # Append new user message\n",
    "    messages.append({\"role\": \"user\", \"content\": new_message})\n",
    "\n",
    "    api_key = api_key or os.getenv(\"GROQ_API_KEY\")\n",
    "\n",
    "    if api_key:\n",
    "        client = Groq()\n",
    "        completion = client.chat.completions.create(\n",
    "            model=model,\n",
    "            messages=messages,\n",
    "            temperature=1,\n",
    "            max_completion_tokens=1024,\n",
    "            top_p=1,\n",
    "            stream=True,\n",
    "            stop=None,\n",
    "        )\n",
    "\n",
    "        response_text = \"\"\n",
    "        for chunk in completion:\n",
    "            response_text += chunk.choices[0].delta.content or \"\"\n",
    "\n",
    "    else:\n",
    "        response = ollama.chat(\n",
    "        model=\"llama3.2:3b\",\n",
    "        messages=messages\n",
    "        )\n",
    "        response_text = response[\"message\"][\"content\"]\n",
    "\n",
    "    \n",
    "    # Append assistant response\n",
    "    messages.append({\"role\": \"assistant\", \"content\": response_text})\n",
    "    \n",
    "    # Save updated conversation history\n",
    "    with open(history_file, \"w\", encoding=\"utf-8\") as file:\n",
    "        json.dump(messages, file, indent=4)\n",
    "    \n",
    "    return response_text\n",
    "\n",
    "# Example usage:\n",
    "# print(groq_chatbot_conversation(\"It's me!\"))\n"
   ]
  },
  {
   "cell_type": "code",
   "execution_count": null,
   "metadata": {},
   "outputs": [],
   "source": [
    "print(converse(\"the song name is correct but you kinda wiffed on the lyrics ngl\"))"
   ]
  },
  {
   "cell_type": "markdown",
   "metadata": {},
   "source": [
    "# 3. Text-to-Speech"
   ]
  },
  {
   "cell_type": "markdown",
   "metadata": {},
   "source": [
    "This section handles the audio output. It includes a function that takes a text response and plays it back using text-to-speech tools."
   ]
  },
  {
   "cell_type": "code",
   "execution_count": null,
   "metadata": {},
   "outputs": [],
   "source": [
    "import asyncio\n",
    "import edge_tts\n",
    "import io\n",
    "import nest_asyncio\n",
    "from pydub import AudioSegment\n",
    "from pydub.playback import play\n",
    "\n",
    "# Allow asyncio to work in Jupyter Notebook\n",
    "nest_asyncio.apply()\n",
    "\n",
    "async def speak(text: str, voice=\"en-US-MichelleNeural\", rate=\"+100%\"):\n",
    "    \"\"\"Convert text to speech and play it directly in Jupyter Notebook.\"\"\"\n",
    "    tts = edge_tts.Communicate(text, voice,rate =rate)\n",
    "    stream = io.BytesIO()\n",
    "\n",
    "    async for chunk in tts.stream():\n",
    "        if chunk[\"type\"] == \"audio\":\n",
    "            stream.write(chunk[\"data\"])\n",
    "\n",
    "    stream.seek(0)\n",
    "    audio = AudioSegment.from_file(stream, format=\"mp3\")\n",
    "    play(audio)\n",
    "\n",
    "# Function to run async code in Jupyter\n",
    "async def tts_play(text, voice=\"en-US-MichelleNeural\", rate=\"+20%\"):\n",
    "    await speak(text, voice, rate)\n",
    "\n",
    "# Example usage\n",
    "# await tts_play(\"\"\"It was a dark and stormy night. All of a sudden, a voice came out of the darkness and said, \"Hello! I'm here to help you with your query. How can I assist you today?\"\"\")\n"
   ]
  },
  {
   "cell_type": "markdown",
   "metadata": {},
   "source": [
    "# 4. Main Loop"
   ]
  },
  {
   "cell_type": "markdown",
   "metadata": {},
   "source": [
    "This part brings everything together. It uses the speech recognition, LLM, and TTS components to form a real-time, voice-based chatbot."
   ]
  },
  {
   "cell_type": "code",
   "execution_count": null,
   "metadata": {},
   "outputs": [],
   "source": [
    "while True:\n",
    "    user_text = recognize_speech_from_mic(r)\n",
    "    print(\"user: \", user_text)\n",
    "    response = converse(user_text, model=\"llama-3.1-8b-instant\")\n",
    "    print(\"bot: \", response)\n",
    "    await tts_play(response, voice=\"en-US-MichelleNeural\", rate=\"+50%\")"
   ]
  },
  {
   "cell_type": "code",
   "execution_count": null,
   "metadata": {},
   "outputs": [],
   "source": []
  }
 ],
 "metadata": {
  "kernelspec": {
   "display_name": ".venv",
   "language": "python",
   "name": "python3"
  },
  "language_info": {
   "codemirror_mode": {
    "name": "ipython",
    "version": 3
   },
   "file_extension": ".py",
   "mimetype": "text/x-python",
   "name": "python",
   "nbconvert_exporter": "python",
   "pygments_lexer": "ipython3",
   "version": "3.8.5"
  }
 },
 "nbformat": 4,
 "nbformat_minor": 2
}
